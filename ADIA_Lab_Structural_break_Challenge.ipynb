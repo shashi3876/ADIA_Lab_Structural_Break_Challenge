{
  "cells": [
    {
      "cell_type": "markdown",
      "metadata": {
        "id": "view-in-github",
        "colab_type": "text"
      },
      "source": [
        "<a href=\"https://colab.research.google.com/github/shashi3876/ADIA_Lab_Structural_Break_Challenge/blob/main/ADIA_Lab_Structural_break_Challenge.ipynb\" target=\"_parent\"><img src=\"https://colab.research.google.com/assets/colab-badge.svg\" alt=\"Open In Colab\"/></a>"
      ]
    },
    {
      "cell_type": "markdown",
      "metadata": {
        "id": "Cge1lmy7E6EI"
      },
      "source": [
        "[![Open In Colab](https://raw.githubusercontent.com/crunchdao/competitions/refs/heads/master/documentation/badge/open-in-colab.svg)](https://colab.research.google.com/github/crunchdao/quickstarters/blob/master/competitions/structural-break/quickstarters/random-submission/random-submission.ipynb)"
      ]
    },
    {
      "cell_type": "markdown",
      "metadata": {
        "id": "omKrTR1eE6EK"
      },
      "source": [
        "#Introduction\n",
        "\n",
        "This notebook contains the explored methods for the ADIA lab structural break challenge.\n",
        "\n",
        "\n",
        "\n",
        "1.   RAndom submission - 50% Accuracy\n",
        "2. Simple features such as the mean, std, etc for each period for each line and then using simple tree classification modle 58% accuracy\n",
        "3. Statistical values (p-value etc) and then using a simple classifcation method (possibly a tree) ==> Not explored yet\n",
        "4. Statistical tests combined with simple features (Combination of 2 and 3) ==> not explored yet.\n",
        "5. Frequency analysis of the tie series in the before and after period ==Not Done yet\n",
        "6. Predict the time series for the period 1 based on the period zero values and then looking at the differences between the actucal and predicted values.\n",
        "\n",
        "\n"
      ]
    },
    {
      "cell_type": "code",
      "source": [],
      "metadata": {
        "id": "RrVIEDVDBdpO"
      },
      "execution_count": null,
      "outputs": []
    }
  ],
  "metadata": {
    "kernelspec": {
      "display_name": "Python 3",
      "language": "python",
      "name": "python3"
    },
    "language_info": {
      "codemirror_mode": {
        "name": "ipython",
        "version": 3
      },
      "file_extension": ".py",
      "mimetype": "text/x-python",
      "name": "python",
      "nbconvert_exporter": "python",
      "pygments_lexer": "ipython3",
      "version": "3.10.11"
    },
    "colab": {
      "provenance": [],
      "include_colab_link": true
    }
  },
  "nbformat": 4,
  "nbformat_minor": 0
}